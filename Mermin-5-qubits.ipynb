{
 "cells": [
  {
   "cell_type": "code",
   "execution_count": 122,
   "metadata": {},
   "outputs": [],
   "source": [
    "# Import dependencies\n",
    "import qibo\n",
    "from qibo.models import Circuit\n",
    "from qibo import gates\n",
    "import numpy as np\n",
    "from copy import deepcopy"
   ]
  },
  {
   "cell_type": "markdown",
   "metadata": {},
   "source": [
    "# Generate GHZ state for 5 qubits\n",
    "This circuit aims to generate the state $|\\psi\\rangle=1/\\sqrt 2(|00000\\rangle + |11111\\rangle)$"
   ]
  },
  {
   "cell_type": "code",
   "execution_count": 123,
   "metadata": {},
   "outputs": [
    {
     "name": "stdout",
     "output_type": "stream",
     "text": [
      "q0: ─────────────H─o─H─M─\n",
      "q1: ─H─o─H─────────|───M─\n",
      "q2: ───X───X───X───X─H─M─\n",
      "q3: ───────|─H─o─H─────M─\n",
      "q4: ─────H─o─H─────────M─\n"
     ]
    }
   ],
   "source": [
    "GHZ_5 = Circuit(5)\n",
    "\n",
    "# Apply gates according to the given circuit diagram\n",
    "GHZ_5.add([\n",
    "    gates.H(1),\n",
    "    gates.CNOT(1, 2),\n",
    "    gates.H(1), \n",
    "    \n",
    "    gates.H(4),\n",
    "    gates.CNOT(4,2),\n",
    "    gates.H(4),\n",
    "    \n",
    "    gates.H(3),\n",
    "    gates.CNOT(3,2),\n",
    "    gates.H(3),\n",
    "    \n",
    "    gates.H(0),\n",
    "    gates.CNOT(0,2),\n",
    "    gates.H(0),\n",
    "    gates.H(2),\n",
    "\n",
    "    gates.M(0,1,2,3,4)\n",
    "\n",
    "])\n",
    "\n",
    "print(GHZ_5.draw())"
   ]
  },
  {
   "cell_type": "code",
   "execution_count": 124,
   "metadata": {},
   "outputs": [
    {
     "data": {
      "text/plain": [
       "Counter({'00000': 53, '11111': 47})"
      ]
     },
     "execution_count": 124,
     "metadata": {},
     "output_type": "execute_result"
    }
   ],
   "source": [
    "# Z measurement results on the generation circuit\n",
    "GHZ_result = GHZ_5(nshots=100)\n",
    "GHZ_result.frequencies()"
   ]
  },
  {
   "cell_type": "markdown",
   "metadata": {},
   "source": [
    "# Measurement\n",
    "For 5 qubits, the Mermin polynomial reads\n",
    "$$\n",
    "\\begin{align}\n",
    "M_5 &= - (a_1a_2a_3a_4a_5) \\\\\n",
    "   & + (a_1a_2a_3a_4'a_5'+ a_1a_2a_3'a_4a_5'+ a_1a_2'a_3a_4a_5'+ a_1'a_2a_3a_4a_5'\\\\\n",
    "   & + a_1a_2a_3'a_4'a_5 + a_1a_2'a_3a_4'a_5 + a_1'a_2a_3a_4'a_5 \\\\\n",
    "   & + a_1a_2'a_3'a_4a_5 + a_1'a_2a_3'a_4a_5\\\\\n",
    "   & + a_1'a_2'a_3a_4a_5)\\\\\n",
    "   & - (a_1a_2'a_3'a_4'a_5' + a_1'a_2a_3'a_4'a_5' + a_1'a_2'a_3a_4'a_5' + a_1'a_2'a_3'a_4a_5' + a_1'a_2'a_3'a_4'a_5)\n",
    "\\end{align}\n",
    "$$\n",
    "\n",
    ", where $a_i$ represents $\\sigma_x$ on the ith qubit, while $a_i'$ represents $\\sigma_y$ on the same qubit.\n",
    "\n",
    "By virtue of symmetry, we can simplify the measurement to:\n",
    "\n",
    "$$\n",
    "\\begin{align}\n",
    "M_5 &= - (a_1a_2a_3a_4a_5) + 10(a_1a_2a_3a_4'a_5') - 5(a_1a_2'a_3'a_4'a_5')\n",
    "\\end{align}\n",
    "$$\n",
    "\n",
    "which only requires 3 experiments.\n",
    "\n",
    "\n",
    "The classical bound of $\\langle M_5\\rangle^{LR}\\le 4$ and the quantum bound $\\langle M_5\\rangle ^{QM} \\le 16$"
   ]
  },
  {
   "cell_type": "code",
   "execution_count": 125,
   "metadata": {},
   "outputs": [],
   "source": [
    "def GHZ_5_generate():\n",
    "    circuit = Circuit(5)\n",
    "    circuit.add([\n",
    "    gates.H(1),\n",
    "    gates.CNOT(1, 2),\n",
    "    gates.H(1), \n",
    "    \n",
    "    gates.H(4),\n",
    "    gates.CNOT(4,2),\n",
    "    gates.H(4),\n",
    "    \n",
    "    gates.H(3),\n",
    "    gates.CNOT(3,2),\n",
    "    gates.H(3),\n",
    "    \n",
    "    gates.H(0),\n",
    "    gates.CNOT(0,2),\n",
    "    gates.H(0),\n",
    "    gates.H(2),\n",
    "])\n",
    "    return circuit"
   ]
  },
  {
   "cell_type": "code",
   "execution_count": 126,
   "metadata": {},
   "outputs": [
    {
     "name": "stdout",
     "output_type": "stream",
     "text": [
      "q0: ─────────────H─o─H─H─M─\n",
      "q1: ─H─o─H─────────|─H───M─\n",
      "q2: ───X───X───X───X─H─H─M─\n",
      "q3: ───────|─H─o─H───H───M─\n",
      "q4: ─────H─o─H───────H───M─\n"
     ]
    },
    {
     "data": {
      "text/plain": [
       "Counter({'11101': 656,\n",
       "         '10111': 653,\n",
       "         '00000': 645,\n",
       "         '10001': 643,\n",
       "         '11011': 636,\n",
       "         '00011': 635,\n",
       "         '01010': 626,\n",
       "         '01100': 626,\n",
       "         '11110': 620,\n",
       "         '01111': 619,\n",
       "         '00101': 618,\n",
       "         '11000': 618,\n",
       "         '10010': 611,\n",
       "         '01001': 604,\n",
       "         '10100': 601,\n",
       "         '00110': 589})"
      ]
     },
     "execution_count": 126,
     "metadata": {},
     "output_type": "execute_result"
    }
   ],
   "source": [
    "nshots = 10000\n",
    "meas_xxxxx = GHZ_5_generate()\n",
    "meas_xxxxx.add([gates.H(i) for i in range(5)])\n",
    "meas_xxxxx.add(gates.M(0,1,2,3,4))\n",
    "print(meas_xxxxx.draw())\n",
    "xxxxx_result = meas_xxxxx(nshots=nshots)\n",
    "xxxxx_result.frequencies()\n"
   ]
  },
  {
   "cell_type": "code",
   "execution_count": 127,
   "metadata": {},
   "outputs": [
    {
     "name": "stdout",
     "output_type": "stream",
     "text": [
      "q0: ─────────────H─o─H───H─M─\n",
      "q1: ─H─o─H─────────|─H─────M─\n",
      "q2: ───X───X───X───X─H───H─M─\n",
      "q3: ───────|─H─o─H───SDG─H─M─\n",
      "q4: ─────H─o─H───────SDG─H─M─\n"
     ]
    },
    {
     "data": {
      "text/plain": [
       "Counter({'11001': 679,\n",
       "         '00100': 649,\n",
       "         '01110': 646,\n",
       "         '10110': 639,\n",
       "         '00111': 638,\n",
       "         '11010': 633,\n",
       "         '11111': 631,\n",
       "         '01000': 625,\n",
       "         '11100': 624,\n",
       "         '10000': 619,\n",
       "         '01101': 611,\n",
       "         '00010': 610,\n",
       "         '00001': 606,\n",
       "         '10011': 605,\n",
       "         '10101': 595,\n",
       "         '01011': 590})"
      ]
     },
     "execution_count": 127,
     "metadata": {},
     "output_type": "execute_result"
    }
   ],
   "source": [
    "meas_xxxyy = GHZ_5_generate()\n",
    "meas_xxxyy.add([gates.SDG(3),gates.SDG(4)])\n",
    "meas_xxxyy.add([gates.H(i) for i in range(5)])\n",
    "meas_xxxyy.add(gates.M(0,1,2,3,4))\n",
    "print(meas_xxxyy.draw())\n",
    "xxxyy_result = meas_xxxyy(nshots=nshots)\n",
    "xxxyy_result.frequencies()\n"
   ]
  },
  {
   "cell_type": "code",
   "execution_count": 128,
   "metadata": {},
   "outputs": [
    {
     "name": "stdout",
     "output_type": "stream",
     "text": [
      "q0: ─────────────H─o─H───H─────M─\n",
      "q1: ─H─o─H─────────|─SDG─H─────M─\n",
      "q2: ───X───X───X───X─H───SDG─H─M─\n",
      "q3: ───────|─H─o─H───SDG─H─────M─\n",
      "q4: ─────H─o─H───────SDG─H─────M─\n"
     ]
    },
    {
     "data": {
      "text/plain": [
       "Counter({'11101': 674,\n",
       "         '10111': 653,\n",
       "         '01111': 648,\n",
       "         '00000': 647,\n",
       "         '01010': 632,\n",
       "         '11011': 626,\n",
       "         '10001': 620,\n",
       "         '11110': 617,\n",
       "         '10100': 616,\n",
       "         '11000': 615,\n",
       "         '01001': 614,\n",
       "         '00011': 613,\n",
       "         '00101': 613,\n",
       "         '10010': 613,\n",
       "         '01100': 609,\n",
       "         '00110': 590})"
      ]
     },
     "execution_count": 128,
     "metadata": {},
     "output_type": "execute_result"
    }
   ],
   "source": [
    "meas_xyyyy = GHZ_5_generate()\n",
    "meas_xyyyy.add([gates.SDG(i) for i in range(1,5)])\n",
    "meas_xyyyy.add([gates.H(i) for i in range(5)])\n",
    "meas_xyyyy.add(gates.M(0,1,2,3,4))\n",
    "print(meas_xyyyy.draw())\n",
    "xyyyy_result = meas_xyyyy(nshots=nshots)\n",
    "xyyyy_result.frequencies()"
   ]
  },
  {
   "cell_type": "markdown",
   "metadata": {},
   "source": [
    "# Results analysis"
   ]
  },
  {
   "cell_type": "code",
   "execution_count": 129,
   "metadata": {},
   "outputs": [],
   "source": [
    "import pandas as pd"
   ]
  },
  {
   "cell_type": "code",
   "execution_count": 130,
   "metadata": {},
   "outputs": [],
   "source": [
    "def count_to_frequency(counter, total_shots: int = None):\n",
    "    if total_shots is None:\n",
    "        total_shots = sum(counter.values())\n",
    "    frequencies = {outcome: count / total_shots for outcome, count in counter.items()}\n",
    "    return frequencies"
   ]
  },
  {
   "cell_type": "code",
   "execution_count": 131,
   "metadata": {},
   "outputs": [
    {
     "name": "stdout",
     "output_type": "stream",
     "text": [
      "        XXXXX   XXXYY   XYYYY\n",
      "00000  0.0645  0.0000  0.0647\n",
      "00011  0.0635  0.0000  0.0613\n",
      "00101  0.0618  0.0000  0.0613\n",
      "00110  0.0589  0.0000  0.0590\n",
      "01001  0.0604  0.0000  0.0614\n",
      "01010  0.0626  0.0000  0.0632\n",
      "01100  0.0626  0.0000  0.0609\n",
      "01111  0.0619  0.0000  0.0648\n",
      "10001  0.0643  0.0000  0.0620\n",
      "10010  0.0611  0.0000  0.0613\n",
      "10100  0.0601  0.0000  0.0616\n",
      "10111  0.0653  0.0000  0.0653\n",
      "11000  0.0618  0.0000  0.0615\n",
      "11011  0.0636  0.0000  0.0626\n",
      "11101  0.0656  0.0000  0.0674\n",
      "11110  0.0620  0.0000  0.0617\n",
      "00001  0.0000  0.0606  0.0000\n",
      "00010  0.0000  0.0610  0.0000\n",
      "00100  0.0000  0.0649  0.0000\n",
      "00111  0.0000  0.0638  0.0000\n",
      "01000  0.0000  0.0625  0.0000\n",
      "01011  0.0000  0.0590  0.0000\n",
      "01101  0.0000  0.0611  0.0000\n",
      "01110  0.0000  0.0646  0.0000\n",
      "10000  0.0000  0.0619  0.0000\n",
      "10011  0.0000  0.0605  0.0000\n",
      "10101  0.0000  0.0595  0.0000\n",
      "10110  0.0000  0.0639  0.0000\n",
      "11001  0.0000  0.0679  0.0000\n",
      "11010  0.0000  0.0633  0.0000\n",
      "11100  0.0000  0.0624  0.0000\n",
      "11111  0.0000  0.0631  0.0000\n"
     ]
    }
   ],
   "source": [
    "xxxxx_frequency = count_to_frequency(xxxxx_result.frequencies())\n",
    "xxxyy_frequency = count_to_frequency(xxxyy_result.frequencies())\n",
    "xyyyy_frequency = count_to_frequency(xyyyy_result.frequencies())\n",
    "data = {\n",
    "    'XXXXX' : dict(xxxxx_frequency),\n",
    "    'XXXYY' : dict(xxxyy_frequency),\n",
    "    'XYYYY' : dict(xyyyy_frequency),\n",
    "}\n",
    "df = pd.DataFrame(data)\n",
    "df = df.fillna(0)\n",
    "print(df)"
   ]
  },
  {
   "cell_type": "markdown",
   "metadata": {},
   "source": [
    "To translate the frequencies into the expected values, we group the resultant states by parity"
   ]
  },
  {
   "cell_type": "code",
   "execution_count": 132,
   "metadata": {},
   "outputs": [],
   "source": [
    "def calculate_parity(outcome):\n",
    "    \"\"\"Determine the parity of string outcome. 1 if odd, 0 iff even.\"\"\"\n",
    "    return outcome.count('1')%2\n",
    "\n",
    "def calculate_expectancy(frequency_dict):\n",
    "    \"\"\"Calculate the expected value based on parity\"\"\"\n",
    "    expect = 0\n",
    "    for outcome, probability in frequency_dict.items():\n",
    "        if calculate_parity(outcome) == 0: # Even parity\n",
    "            expect += probability\n",
    "        else:\n",
    "            expect -= probability\n",
    "    return expect"
   ]
  },
  {
   "cell_type": "code",
   "execution_count": 133,
   "metadata": {},
   "outputs": [
    {
     "name": "stdout",
     "output_type": "stream",
     "text": [
      "1.0 -0.9999999999999999 1.0\n",
      "-15.999999999999998\n"
     ]
    }
   ],
   "source": [
    "A = calculate_expectancy(xxxxx_frequency)\n",
    "B = calculate_expectancy(xxxyy_frequency)\n",
    "C = calculate_expectancy(xyyyy_frequency)\n",
    "print(A,B,C)\n",
    "M5 = -A + 10*B - 5*C\n",
    "print(M5)"
   ]
  }
 ],
 "metadata": {
  "kernelspec": {
   "display_name": "Python 3",
   "language": "python",
   "name": "python3"
  },
  "language_info": {
   "codemirror_mode": {
    "name": "ipython",
    "version": 3
   },
   "file_extension": ".py",
   "mimetype": "text/x-python",
   "name": "python",
   "nbconvert_exporter": "python",
   "pygments_lexer": "ipython3",
   "version": "3.11.7"
  }
 },
 "nbformat": 4,
 "nbformat_minor": 2
}
