{
 "cells": [
  {
   "cell_type": "code",
   "execution_count": 102,
   "metadata": {},
   "outputs": [],
   "source": [
    "# Import dependencies\n",
    "import qibo\n",
    "from qibo.models import Circuit\n",
    "from qibo import gates\n",
    "import numpy as np\n",
    "from copy import deepcopy"
   ]
  },
  {
   "cell_type": "markdown",
   "metadata": {},
   "source": [
    "# Generate GHZ-like state with relative phase\n",
    "\n",
    "This circuit aims to generate the state $|\\psi\\rang=1/\\sqrt 2(|00000\\rang + |11111\\rang)$"
   ]
  },
  {
   "cell_type": "code",
   "execution_count": 103,
   "metadata": {},
   "outputs": [
    {
     "name": "stdout",
     "output_type": "stream",
     "text": [
      "q0: ─────────────H─o─H─M─\n",
      "q1: ─H─o─H─────────|───M─\n",
      "q2: ───X───X───X───X─H─M─\n",
      "q3: ───────|─H─o─H─────M─\n",
      "q4: ─────H─o─H─────────M─\n"
     ]
    }
   ],
   "source": [
    "GHZ_5 = Circuit(5)\n",
    "\n",
    "# Apply gates according to the given circuit diagram\n",
    "GHZ_5.add([\n",
    "    gates.H(1),\n",
    "    gates.CNOT(1, 2),\n",
    "    gates.H(1), \n",
    "    \n",
    "    gates.H(4),\n",
    "    gates.CNOT(4,2),\n",
    "    gates.H(4),\n",
    "    \n",
    "    gates.H(3),\n",
    "    gates.CNOT(3,2),\n",
    "    gates.H(3),\n",
    "    \n",
    "    gates.H(0),\n",
    "    gates.CNOT(0,2),\n",
    "    gates.H(0),\n",
    "    gates.H(2),\n",
    "\n",
    "    gates.M(0,1,2,3,4)\n",
    "\n",
    "])\n",
    "\n",
    "print(GHZ_5.draw())"
   ]
  },
  {
   "cell_type": "code",
   "execution_count": 104,
   "metadata": {},
   "outputs": [
    {
     "data": {
      "text/plain": [
       "Counter({'00000': 50, '11111': 50})"
      ]
     },
     "execution_count": 104,
     "metadata": {},
     "output_type": "execute_result"
    }
   ],
   "source": [
    "# Z measurement results on the generation circuit\n",
    "GHZ_result = GHZ_5(nshots=100)\n",
    "GHZ_result.frequencies()"
   ]
  },
  {
   "cell_type": "markdown",
   "metadata": {},
   "source": [
    "# Measurement\n",
    "For 5 qubits, the Mermin polynomial reads\n",
    "$$\n",
    "\\begin{align}\n",
    "M_5 &= - (a_1a_2a_3a_4a_5) \\\\\n",
    "   & + (a_1a_2a_3a_4'a_5'+ a_1a_2a_3'a_4a_5'+ a_1a_2'a_3a_4a_5'+ a_1'a_2a_3a_4a_5'\\\\\n",
    "   & + a_1a_2a_3'a_4'a_5 + a_1a_2'a_3a_4'a_5 + a_1'a_2a_3a_4'a_5 \\\\\n",
    "   & + a_1a_2'a_3'a_4a_5 + a_1'a_2a_3'a_4a_5\\\\\n",
    "   & + a_1'a_2'a_3a_4a_5)\\\\\n",
    "   & - (a_1a_2'a_3'a_4'a_5' + a_1'a_2a_3'a_4'a_5' + a_1'a_2'a_3a_4'a_5' + a_1'a_2'a_3'a_4a_5' + a_1'a_2'a_3'a_4'a_5)\n",
    "\\end{align}\n",
    "$$\n",
    "\n",
    ", where $a_i$ represents $\\sigma_x$ on the ith qubit, while $a_i'$ represents $\\sigma_y$ on the same qubit.\n",
    "\n",
    "By virtue of symmetry, we can simplify the measurement to:\n",
    "\n",
    "$$\n",
    "\\begin{align}\n",
    "M_5 &= - (a_1a_2a_3a_4a_5) + 10(a_1a_2a_3a_4'a_5') - 5(a_1a_2'a_3'a_4'a_5')\n",
    "\\end{align}\n",
    "$$\n",
    "\n",
    "which only requires 3 experiments.\n",
    "\n",
    "\n",
    "The classical bound of $\\lang M_5\\rang^{LR}\\le 4$ and the quantum bound $\\lang M_5\\rang ^{QM} \\le 16$"
   ]
  },
  {
   "cell_type": "code",
   "execution_count": 105,
   "metadata": {},
   "outputs": [],
   "source": [
    "def GHZ_5_generate():\n",
    "    circuit = Circuit(5)\n",
    "    circuit.add([\n",
    "    gates.H(1),\n",
    "    gates.CNOT(1, 2),\n",
    "    gates.H(1), \n",
    "    \n",
    "    gates.H(4),\n",
    "    gates.CNOT(4,2),\n",
    "    gates.H(4),\n",
    "    \n",
    "    gates.H(3),\n",
    "    gates.CNOT(3,2),\n",
    "    gates.H(3),\n",
    "    \n",
    "    gates.H(0),\n",
    "    gates.CNOT(0,2),\n",
    "    gates.H(0),\n",
    "    gates.H(2),\n",
    "])\n",
    "    return circuit"
   ]
  },
  {
   "cell_type": "code",
   "execution_count": 106,
   "metadata": {},
   "outputs": [
    {
     "name": "stdout",
     "output_type": "stream",
     "text": [
      "q0: ─────────────H─o─H─H─M─\n",
      "q1: ─H─o─H─────────|─H───M─\n",
      "q2: ───X───X───X───X─H─H─M─\n",
      "q3: ───────|─H─o─H───H───M─\n",
      "q4: ─────H─o─H───────H───M─\n"
     ]
    },
    {
     "data": {
      "text/plain": [
       "Counter({'01100': 658,\n",
       "         '11011': 656,\n",
       "         '10001': 652,\n",
       "         '11110': 647,\n",
       "         '10100': 646,\n",
       "         '00101': 641,\n",
       "         '00110': 632,\n",
       "         '11000': 632,\n",
       "         '00011': 625,\n",
       "         '00000': 616,\n",
       "         '11101': 607,\n",
       "         '10010': 605,\n",
       "         '10111': 602,\n",
       "         '01111': 599,\n",
       "         '01001': 597,\n",
       "         '01010': 585})"
      ]
     },
     "execution_count": 106,
     "metadata": {},
     "output_type": "execute_result"
    }
   ],
   "source": [
    "nshots = 10000\n",
    "meas_xxxxx = GHZ_5_generate()\n",
    "meas_xxxxx.add([gates.H(i) for i in range(5)])\n",
    "meas_xxxxx.add(gates.M(0,1,2,3,4))\n",
    "print(meas_xxxxx.draw())\n",
    "xxxxx_result = meas_xxxxx(nshots=nshots)\n",
    "xxxxx_result.frequencies()\n"
   ]
  },
  {
   "cell_type": "code",
   "execution_count": 107,
   "metadata": {},
   "outputs": [
    {
     "name": "stdout",
     "output_type": "stream",
     "text": [
      "q0: ─────────────H─o─H───H─M─\n",
      "q1: ─H─o─H─────────|─H─────M─\n",
      "q2: ───X───X───X───X─H───H─M─\n",
      "q3: ───────|─H─o─H───SDG─H─M─\n",
      "q4: ─────H─o─H───────SDG─H─M─\n"
     ]
    },
    {
     "data": {
      "text/plain": [
       "Counter({'11111': 680,\n",
       "         '11010': 662,\n",
       "         '00111': 659,\n",
       "         '00100': 651,\n",
       "         '10110': 651,\n",
       "         '00010': 641,\n",
       "         '01000': 624,\n",
       "         '10000': 618,\n",
       "         '01101': 614,\n",
       "         '01110': 614,\n",
       "         '11001': 612,\n",
       "         '01011': 605,\n",
       "         '10011': 599,\n",
       "         '10101': 593,\n",
       "         '11100': 592,\n",
       "         '00001': 585})"
      ]
     },
     "execution_count": 107,
     "metadata": {},
     "output_type": "execute_result"
    }
   ],
   "source": [
    "meas_xxxyy = GHZ_5_generate()\n",
    "meas_xxxyy.add([gates.SDG(3),gates.SDG(4)])\n",
    "meas_xxxyy.add([gates.H(i) for i in range(5)])\n",
    "meas_xxxyy.add(gates.M(0,1,2,3,4))\n",
    "print(meas_xxxyy.draw())\n",
    "xxxyy_result = meas_xxxyy(nshots=nshots)\n",
    "xxxyy_result.frequencies()\n"
   ]
  },
  {
   "cell_type": "code",
   "execution_count": 108,
   "metadata": {},
   "outputs": [
    {
     "name": "stdout",
     "output_type": "stream",
     "text": [
      "q0: ─────────────H─o─H───H─────M─\n",
      "q1: ─H─o─H─────────|─SDG─H─────M─\n",
      "q2: ───X───X───X───X─H───SDG─H─M─\n",
      "q3: ───────|─H─o─H───SDG─H─────M─\n",
      "q4: ─────H─o─H───────SDG─H─────M─\n"
     ]
    },
    {
     "data": {
      "text/plain": [
       "Counter({'01111': 668,\n",
       "         '10010': 668,\n",
       "         '11101': 665,\n",
       "         '00000': 657,\n",
       "         '00011': 637,\n",
       "         '10001': 634,\n",
       "         '11110': 629,\n",
       "         '10111': 628,\n",
       "         '00101': 616,\n",
       "         '11000': 615,\n",
       "         '00110': 612,\n",
       "         '10100': 604,\n",
       "         '01100': 595,\n",
       "         '01010': 592,\n",
       "         '01001': 591,\n",
       "         '11011': 589})"
      ]
     },
     "execution_count": 108,
     "metadata": {},
     "output_type": "execute_result"
    }
   ],
   "source": [
    "meas_xyyyy = GHZ_5_generate()\n",
    "meas_xyyyy.add([gates.SDG(i) for i in range(1,5)])\n",
    "meas_xyyyy.add([gates.H(i) for i in range(5)])\n",
    "meas_xyyyy.add(gates.M(0,1,2,3,4))\n",
    "print(meas_xyyyy.draw())\n",
    "xyyyy_result = meas_xyyyy(nshots=nshots)\n",
    "xyyyy_result.frequencies()"
   ]
  },
  {
   "cell_type": "markdown",
   "metadata": {},
   "source": [
    "# Results analysis"
   ]
  },
  {
   "cell_type": "code",
   "execution_count": 109,
   "metadata": {},
   "outputs": [],
   "source": [
    "import pandas as pd"
   ]
  },
  {
   "cell_type": "code",
   "execution_count": 110,
   "metadata": {},
   "outputs": [],
   "source": [
    "def count_to_frequency(counter, total_shots: int = None):\n",
    "    if total_shots is None:\n",
    "        total_shots = sum(counter.values())\n",
    "    frequencies = {outcome: count / total_shots for outcome, count in counter.items()}\n",
    "    return frequencies"
   ]
  },
  {
   "cell_type": "code",
   "execution_count": 112,
   "metadata": {},
   "outputs": [
    {
     "name": "stdout",
     "output_type": "stream",
     "text": [
      "        XXXXX   XXXYY   XYYYY\n",
      "00000  0.0616  0.0000  0.0657\n",
      "00011  0.0625  0.0000  0.0637\n",
      "00101  0.0641  0.0000  0.0616\n",
      "00110  0.0632  0.0000  0.0612\n",
      "01001  0.0597  0.0000  0.0591\n",
      "01010  0.0585  0.0000  0.0592\n",
      "01100  0.0658  0.0000  0.0595\n",
      "01111  0.0599  0.0000  0.0668\n",
      "10001  0.0652  0.0000  0.0634\n",
      "10010  0.0605  0.0000  0.0668\n",
      "10100  0.0646  0.0000  0.0604\n",
      "10111  0.0602  0.0000  0.0628\n",
      "11000  0.0632  0.0000  0.0615\n",
      "11011  0.0656  0.0000  0.0589\n",
      "11101  0.0607  0.0000  0.0665\n",
      "11110  0.0647  0.0000  0.0629\n",
      "00001  0.0000  0.0585  0.0000\n",
      "00010  0.0000  0.0641  0.0000\n",
      "00100  0.0000  0.0651  0.0000\n",
      "00111  0.0000  0.0659  0.0000\n",
      "01000  0.0000  0.0624  0.0000\n",
      "01011  0.0000  0.0605  0.0000\n",
      "01101  0.0000  0.0614  0.0000\n",
      "01110  0.0000  0.0614  0.0000\n",
      "10000  0.0000  0.0618  0.0000\n",
      "10011  0.0000  0.0599  0.0000\n",
      "10101  0.0000  0.0593  0.0000\n",
      "10110  0.0000  0.0651  0.0000\n",
      "11001  0.0000  0.0612  0.0000\n",
      "11010  0.0000  0.0662  0.0000\n",
      "11100  0.0000  0.0592  0.0000\n",
      "11111  0.0000  0.0680  0.0000\n"
     ]
    }
   ],
   "source": [
    "xxxxx_frequency = count_to_frequency(xxxxx_result.frequencies())\n",
    "xxxyy_frequency = count_to_frequency(xxxyy_result.frequencies())\n",
    "xyyyy_frequency = count_to_frequency(xyyyy_result.frequencies())\n",
    "data = {\n",
    "    'XXXXX' : dict(xxxxx_frequency),\n",
    "    'XXXYY' : dict(xxxyy_frequency),\n",
    "    'XYYYY' : dict(xyyyy_frequency),\n",
    "}\n",
    "df = pd.DataFrame(data)\n",
    "df = df.fillna(0)\n",
    "print(df)"
   ]
  },
  {
   "cell_type": "markdown",
   "metadata": {},
   "source": [
    "To translate the frequencies into the expected values, we group the resultant states by parity"
   ]
  },
  {
   "cell_type": "code",
   "execution_count": 116,
   "metadata": {},
   "outputs": [],
   "source": [
    "def calculate_parity(outcome):\n",
    "    \"\"\"Determine the parity of string outcome. 1 if odd, 0 iff even.\"\"\"\n",
    "    return outcome.count('1')%2\n",
    "\n",
    "def calculate_expectancy(frequency_dict):\n",
    "    \"\"\"Calculate the expected value based on parity\"\"\"\n",
    "    expect = 0\n",
    "    for outcome, probability in frequency_dict.items():\n",
    "        if calculate_parity(outcome) == 0: # Even parity\n",
    "            expect += probability\n",
    "        else:\n",
    "            expect -= probability\n",
    "    return expect"
   ]
  },
  {
   "cell_type": "code",
   "execution_count": 121,
   "metadata": {},
   "outputs": [
    {
     "name": "stdout",
     "output_type": "stream",
     "text": [
      "1.0 -1.0000000000000002 0.9999999999999998\n",
      "-16.0\n"
     ]
    }
   ],
   "source": [
    "A = calculate_expectancy(xxxxx_frequency)\n",
    "B = calculate_expectancy(xxxyy_frequency)\n",
    "C = calculate_expectancy(xyyyy_frequency)\n",
    "print(A,B,C)\n",
    "M5 = -A + 10*B - 5*C\n",
    "print(M5)"
   ]
  }
 ],
 "metadata": {
  "kernelspec": {
   "display_name": "Python 3",
   "language": "python",
   "name": "python3"
  },
  "language_info": {
   "codemirror_mode": {
    "name": "ipython",
    "version": 3
   },
   "file_extension": ".py",
   "mimetype": "text/x-python",
   "name": "python",
   "nbconvert_exporter": "python",
   "pygments_lexer": "ipython3",
   "version": "3.11.7"
  }
 },
 "nbformat": 4,
 "nbformat_minor": 2
}
